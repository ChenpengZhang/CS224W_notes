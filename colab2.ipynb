{
 "cells": [
  {
   "cell_type": "markdown",
   "metadata": {},
   "source": [
    "# **CS224W - Colab 2**\n",
    "\n",
    "In Colab 2, we will work to construct our own graph neural network using PyTorch Geometric (PyG) and then apply that model on two Open Graph Benchmark (OGB) datasets. These two datasets will be used to benchmark your model's performance on two different graph-based tasks: 1) node property prediction, predicting properties of single nodes and 2) graph property prediction, predicting properties of entire graphs or subgraphs.\n",
    "\n",
    "First, we will learn how PyTorch Geometric stores graphs as PyTorch tensors.\n",
    "\n",
    "Then, we will load and inspect one of the Open Graph Benchmark (OGB) datasets by using the `ogb` package. OGB is a collection of realistic, large-scale, and diverse benchmark datasets for machine learning on graphs. The `ogb` package not only provides data loaders for each dataset but also model evaluators.\n",
    "\n",
    "Lastly, we will build our own graph neural network using PyTorch Geometric. We will then train and evaluate our model on the OGB node property prediction and graph property prediction tasks.\n",
    "\n",
    "**Note**: Make sure to **sequentially run all the cells in each section**, so that the intermediate variables / packages will carry over to the next cell\n",
    "\n",
    "We recommend you save a copy of this colab in your drive so you don't lose progress!\n",
    "\n",
    "The expected time to finish this Colab is 2 hours. However, debugging training loops can easily take a while. So, don't worry at all if it takes you longer! Have fun and good luck on Colab 2 :)\n",
    "\n",
    "# Device\n",
    "You might need to use a GPU for this Colab to run quickly.\n",
    "\n",
    "Please click `Runtime` and then `Change runtime type`. Then set the `hardware accelerator` to **GPU**."
   ]
  },
  {
   "cell_type": "markdown",
   "metadata": {},
   "source": [
    "# 1) PyTorch Geometric (Datasets and Data)\n",
    "\n",
    "\n",
    "PyTorch Geometric has two classes for storing and/or transforming graphs into tensor format. One is `torch_geometric.datasets`, which contains a variety of common graph datasets. Another is `torch_geometric.data`, which provides the data handling of graphs in PyTorch tensors.\n",
    "\n",
    "In this section, we will learn how to use `torch_geometric.datasets` and `torch_geometric.data` together.\n",
    "\n",
    "## PyG Datasets\n",
    "\n",
    "The `torch_geometric.datasets` class has many common graph datasets. Here we will explore its usage through one example dataset."
   ]
  },
  {
   "cell_type": "code",
   "execution_count": 1,
   "metadata": {},
   "outputs": [
    {
     "name": "stdout",
     "output_type": "stream",
     "text": [
      "ENZYMES(600)\n"
     ]
    }
   ],
   "source": [
    "from torch_geometric.datasets import TUDataset\n",
    "import os\n",
    "\n",
    "if 'IS_GRADESCOPE_ENV' not in os.environ:\n",
    "  root = './enzymes'\n",
    "  name = 'ENZYMES'\n",
    "\n",
    "  # The ENZYMES dataset\n",
    "  pyg_dataset= TUDataset(root, name)\n",
    "\n",
    "  # You will find that there are 600 graphs in this dataset\n",
    "  print(pyg_dataset)"
   ]
  },
  {
   "cell_type": "markdown",
   "metadata": {},
   "source": [
    "## Question 1: What is the number of classes and number of features in the ENZYMES dataset? (5 points)"
   ]
  },
  {
   "cell_type": "code",
   "execution_count": 2,
   "metadata": {},
   "outputs": [
    {
     "name": "stdout",
     "output_type": "stream",
     "text": [
      "ENZYMES dataset has 6 classes\n",
      "ENZYMES dataset has 3 features\n"
     ]
    }
   ],
   "source": [
    "def get_num_classes(pyg_dataset):\n",
    "  # TODO: Implement a function that takes a PyG dataset object\n",
    "  # and returns the number of classes for that dataset.\n",
    "\n",
    "  num_classes = 0\n",
    "\n",
    "  ############# Your code here ############\n",
    "  ## (~1 line of code)\n",
    "  ## Note\n",
    "  ## 1. Colab autocomplete functionality might be useful.\n",
    "  num_classes = pyg_dataset.num_classes\n",
    "\n",
    "  #########################################\n",
    "\n",
    "  return num_classes\n",
    "\n",
    "def get_num_features(pyg_dataset):\n",
    "  # TODO: Implement a function that takes a PyG dataset object\n",
    "  # and returns the number of features for that dataset.\n",
    "\n",
    "  num_features = 0\n",
    "\n",
    "  ############# Your code here ############\n",
    "  ## (~1 line of code)\n",
    "  ## Note\n",
    "  ## 1. Colab autocomplete functionality might be useful.\n",
    "  num_features = pyg_dataset.num_features\n",
    "\n",
    "  #########################################\n",
    "\n",
    "  return num_features\n",
    "\n",
    "if 'IS_GRADESCOPE_ENV' not in os.environ:\n",
    "  num_classes = get_num_classes(pyg_dataset)\n",
    "  num_features = get_num_features(pyg_dataset)\n",
    "  print(\"{} dataset has {} classes\".format(name, num_classes))\n",
    "  print(\"{} dataset has {} features\".format(name, num_features))"
   ]
  },
  {
   "cell_type": "markdown",
   "metadata": {},
   "source": [
    "## PyG Data\n",
    "\n",
    "Each PyG dataset stores a list of `torch_geometric.data.Data` objects, where each `torch_geometric.data.Data` object represents a graph. We can easily get the `Data` object by indexing into the dataset.\n",
    "\n",
    "For more information such as what is stored in the `Data` object, please refer to the [documentation](https://pytorch-geometric.readthedocs.io/en/latest/modules/data.html#torch_geometric.data.Data)."
   ]
  },
  {
   "cell_type": "code",
   "execution_count": 3,
   "metadata": {},
   "outputs": [
    {
     "name": "stdout",
     "output_type": "stream",
     "text": [
      "Data(edge_index=[2, 168], x=[37, 3], y=[1])\n",
      "Graph with index 100 has label tensor([4])\n"
     ]
    }
   ],
   "source": [
    "def get_graph_class(pyg_dataset, idx):\n",
    "  # TODO: Implement a function that takes a PyG dataset object,\n",
    "  # an index of a graph within the dataset, and returns the class/label\n",
    "  # of the graph (as an integer).\n",
    "\n",
    "  label = -1\n",
    "\n",
    "  ############# Your code here ############\n",
    "  ## (~1 line of code)\n",
    "  label = pyg_dataset[idx].y\n",
    "\n",
    "  #########################################\n",
    "\n",
    "  return label\n",
    "\n",
    "# Here pyg_dataset is a dataset for graph classification\n",
    "if 'IS_GRADESCOPE_ENV' not in os.environ:\n",
    "  graph_0 = pyg_dataset[0]\n",
    "  print(graph_0)\n",
    "  idx = 100\n",
    "  label = get_graph_class(pyg_dataset, idx)\n",
    "  print('Graph with index {} has label {}'.format(idx, label))"
   ]
  },
  {
   "cell_type": "code",
   "execution_count": 4,
   "metadata": {},
   "outputs": [
    {
     "name": "stdout",
     "output_type": "stream",
     "text": [
      "Graph with index 200 has 53 edges\n"
     ]
    }
   ],
   "source": [
    "def get_graph_num_edges(pyg_dataset, idx):\n",
    "  # TODO: Implement a function that takes a PyG dataset object,\n",
    "  # the index of a graph in the dataset, and returns the number of\n",
    "  # edges in the graph (as an integer). You should not count an edge\n",
    "  # twice if the graph is undirected. For example, in an undirected\n",
    "  # graph G, if two nodes v and u are connected by an edge, this edge\n",
    "  # should only be counted once.\n",
    "\n",
    "  num_edges = 0\n",
    "\n",
    "  ############# Your code here ############\n",
    "  ## Note:\n",
    "  ## 1. You can't return the data.num_edges directly\n",
    "  ## 2. We assume the graph is undirected\n",
    "  ## 3. Look at the PyG dataset built in functions\n",
    "  ## (~4 lines of code)\n",
    "  edge_index = pyg_dataset[idx].edge_index  # Access the edge index of the graph\n",
    "  num_edges = edge_index.size(1)  # Get the number of edge\n",
    "  # If the graph is undirected, we need to count each edge only once\n",
    "  if pyg_dataset[idx].is_undirected():\n",
    "    num_edges //= 2  # Divide by 2 because each edge is counted twice\n",
    "\n",
    "  #########################################\n",
    "\n",
    "  return num_edges\n",
    "\n",
    "if 'IS_GRADESCOPE_ENV' not in os.environ:\n",
    "  idx = 200\n",
    "  num_edges = get_graph_num_edges(pyg_dataset, idx)\n",
    "  print('Graph with index {} has {} edges'.format(idx, num_edges))"
   ]
  },
  {
   "cell_type": "markdown",
   "metadata": {},
   "source": [
    "# 2) Open Graph Benchmark (OGB)\n",
    "\n",
    "The Open Graph Benchmark (OGB) is a collection of realistic, large-scale, and diverse benchmark datasets for machine learning on graphs. Its datasets are automatically downloaded, processed, and split using the OGB Data Loader. The model performance can then be evaluated by using the OGB Evaluator in a unified manner.\n",
    "\n",
    "## Dataset and Data\n",
    "\n",
    "OGB also supports PyG dataset and data classes. Here we take a look on the `ogbn-arxiv` dataset."
   ]
  },
  {
   "cell_type": "code",
   "execution_count": 5,
   "metadata": {},
   "outputs": [
    {
     "name": "stdout",
     "output_type": "stream",
     "text": [
      "The ogbn-arxiv dataset has 1 graph\n",
      "Data(num_nodes=169343, x=[169343, 128], node_year=[169343, 1], y=[169343, 1], adj_t=[169343, 169343, nnz=1166243])\n"
     ]
    }
   ],
   "source": [
    "import torch_geometric.transforms as T\n",
    "from ogb.nodeproppred import PygNodePropPredDataset\n",
    "\n",
    "if 'IS_GRADESCOPE_ENV' not in os.environ:\n",
    "  dataset_name = 'ogbn-arxiv'\n",
    "  # Load the dataset and transform it to sparse tensor\n",
    "  dataset = PygNodePropPredDataset(name=dataset_name,\n",
    "                                  transform=T.ToSparseTensor())\n",
    "  print('The {} dataset has {} graph'.format(dataset_name, len(dataset)))\n",
    "\n",
    "  # Extract the graph\n",
    "  data = dataset[0]\n",
    "  print(data)"
   ]
  },
  {
   "cell_type": "code",
   "execution_count": 6,
   "metadata": {},
   "outputs": [
    {
     "name": "stdout",
     "output_type": "stream",
     "text": [
      "The graph has 128 features\n"
     ]
    }
   ],
   "source": [
    "def graph_num_features(data):\n",
    "  # TODO: Implement a function that takes a PyG data object,\n",
    "  # and returns the number of features in the graph (as an integer).\n",
    "\n",
    "  num_features = 0\n",
    "\n",
    "  ############# Your code here ############\n",
    "  ## (~1 line of code)\n",
    "  num_features = data.num_features\n",
    "\n",
    "  #########################################\n",
    "\n",
    "  return num_features\n",
    "\n",
    "if 'IS_GRADESCOPE_ENV' not in os.environ:\n",
    "  num_features = graph_num_features(data)\n",
    "  print('The graph has {} features'.format(num_features))"
   ]
  },
  {
   "cell_type": "markdown",
   "metadata": {},
   "source": [
    "# 3) GNN: Node Property Prediction\n",
    "\n",
    "In this section we will build our first graph neural network using PyTorch Geometric. Then we will apply it to the task of node property prediction (node classification).\n",
    "\n",
    "Specifically, we will use GCN as the foundation for your graph neural network ([Kipf et al. (2017)](https://arxiv.org/pdf/1609.02907.pdf)). To do so, we will work with PyG's built-in `GCNConv` layer.\n",
    "\n",
    "## Setup"
   ]
  },
  {
   "cell_type": "code",
   "execution_count": 7,
   "metadata": {},
   "outputs": [
    {
     "name": "stdout",
     "output_type": "stream",
     "text": [
      "2.1.2+cu118\n"
     ]
    }
   ],
   "source": [
    "import torch\n",
    "import pandas as pd\n",
    "import torch.nn.functional as F\n",
    "print(torch.__version__)\n",
    "\n",
    "# The PyG built-in GCNConv\n",
    "from torch_geometric.nn import GCNConv\n",
    "\n",
    "import torch_geometric.transforms as T\n",
    "from ogb.nodeproppred import PygNodePropPredDataset, Evaluator"
   ]
  },
  {
   "cell_type": "markdown",
   "metadata": {},
   "source": [
    "## Load and Preprocess the Dataset"
   ]
  },
  {
   "cell_type": "code",
   "execution_count": 8,
   "metadata": {},
   "outputs": [
    {
     "name": "stdout",
     "output_type": "stream",
     "text": [
      "Device: cuda\n"
     ]
    }
   ],
   "source": [
    "if 'IS_GRADESCOPE_ENV' not in os.environ:\n",
    "  dataset_name = 'ogbn-arxiv'\n",
    "  dataset = PygNodePropPredDataset(name=dataset_name,\n",
    "                                  transform=T.ToSparseTensor())\n",
    "  data = dataset[0]\n",
    "\n",
    "  # Make the adjacency matrix to symmetric\n",
    "  data.adj_t = data.adj_t.to_symmetric()\n",
    "\n",
    "  device = 'cuda' if torch.cuda.is_available() else 'cpu'\n",
    "\n",
    "  # If you use GPU, the device should be cuda\n",
    "  print('Device: {}'.format(device))\n",
    "\n",
    "  data = data.to(device)\n",
    "  split_idx = dataset.get_idx_split()\n",
    "  train_idx = split_idx['train'].to(device)"
   ]
  },
  {
   "cell_type": "markdown",
   "metadata": {},
   "source": [
    "## GCN Model\n",
    "\n",
    "Now we will implement our GCN model!\n",
    "\n",
    "Please follow the figure below to implement the `forward` function.\n",
    "\n",
    "\n",
    "![test](https://drive.google.com/uc?id=128AuYAXNXGg7PIhJJ7e420DoPWKb-RtL)"
   ]
  },
  {
   "cell_type": "code",
   "execution_count": 100,
   "metadata": {},
   "outputs": [],
   "source": [
    "class GCN(torch.nn.Module):\n",
    "    def __init__(self, input_dim, hidden_dim, output_dim, num_layers,\n",
    "                 dropout, return_embeds=False):\n",
    "        # TODO: Implement a function that initializes self.convs,\n",
    "        # self.bns, and self.softmax.\n",
    "\n",
    "        super(GCN, self).__init__()\n",
    "\n",
    "        # A list of GCNConv layers\n",
    "        self.convs = None\n",
    "\n",
    "        # A list of 1D batch normalization layers\n",
    "        self.bns = None\n",
    "\n",
    "        # The log softmax layer\n",
    "        self.softmax = None\n",
    "\n",
    "        ############# Your code here ############\n",
    "        ## Note:\n",
    "        ## 1. You should use torch.nn.ModuleList for self.convs and self.bns\n",
    "        ## 2. self.convs has num_layers GCNConv layers\n",
    "        ## 3. self.bns has num_layers - 1 BatchNorm1d layers\n",
    "        ## 4. You should use torch.nn.LogSoftmax for self.softmax\n",
    "        ## 5. The parameters you can set for GCNConv include 'in_channels' and\n",
    "        ## 'out_channels'. For more information please refer to the documentation:\n",
    "        ## https://pytorch-geometric.readthedocs.io/en/latest/modules/nn.html#torch_geometric.nn.conv.GCNConv\n",
    "        ## 6. The only parameter you need to set for BatchNorm1d is 'num_features'\n",
    "        ## For more information please refer to the documentation:\n",
    "        ## https://pytorch.org/docs/stable/generated/torch.nn.BatchNorm1d.html\n",
    "        ## (~10 lines of code)\n",
    "        self.convs = torch.nn.ModuleList()\n",
    "        self.bns = torch.nn.ModuleList()\n",
    "        if num_layers == 1:\n",
    "            self.convs.append(GCNConv(input_dim, output_dim))\n",
    "        else:\n",
    "            self.convs.append(GCNConv(input_dim, hidden_dim))\n",
    "            self.convs += [GCNConv(hidden_dim, hidden_dim) for _ in range(num_layers - 2)]\n",
    "            self.convs.append(GCNConv(hidden_dim, output_dim))\n",
    "            self.bns += [torch.nn.BatchNorm1d(256) for _ in range(num_layers - 1)]\n",
    "        self.softmax = torch.nn.LogSoftmax(dim=1)\n",
    "        #########################################\n",
    "\n",
    "        # Probability of an element getting zeroed\n",
    "        self.dropout = dropout\n",
    "\n",
    "        # Skip classification layer and return node embeddings\n",
    "        self.return_embeds = return_embeds\n",
    "\n",
    "    def reset_parameters(self):\n",
    "        for conv in self.convs:\n",
    "            conv.reset_parameters()\n",
    "        for bn in self.bns:\n",
    "            bn.reset_parameters()\n",
    "\n",
    "    def forward(self, x, adj_t):\n",
    "        # TODO: Implement a function that takes the feature tensor x and\n",
    "        # edge_index tensor adj_t and returns the output tensor as\n",
    "        # shown in the figure.\n",
    "\n",
    "        out = None\n",
    "\n",
    "        ############# Your code here ############\n",
    "        ## Note:\n",
    "        ## 1. Construct the network as shown in the figure\n",
    "        ## 2. torch.nn.functional.relu and torch.nn.functional.dropout are useful\n",
    "        ## For more information please refer to the documentation:\n",
    "        ## https://pytorch.org/docs/stable/nn.functional.html\n",
    "        ## 3. Don't forget to set F.dropout training to self.training\n",
    "        ## 4. If return_embeds is True, then skip the last softmax layer\n",
    "        ## (~7 lines of code)\n",
    "        h = x.clone()\n",
    "        for i in range(len(self.bns)):\n",
    "            h = self.convs[i](h, adj_t)\n",
    "            h = self.bns[i](h)\n",
    "            h = torch.nn.functional.relu(h)\n",
    "            h = F.dropout(h, p=self.dropout)\n",
    "        x = self.convs[-1](h, adj_t)\n",
    "        out = x if self.return_embeds else self.softmax(x)\n",
    "        #########################################\n",
    "\n",
    "        return out"
   ]
  },
  {
   "cell_type": "code",
   "execution_count": 101,
   "metadata": {},
   "outputs": [],
   "source": [
    "def train(model, data, train_idx, optimizer, loss_fn):\n",
    "    # TODO: Implement a function that trains the model by\n",
    "    # using the given optimizer and loss_fn.\n",
    "    model.train()\n",
    "    loss = 0\n",
    "\n",
    "    ############# Your code here ############\n",
    "    ## Note:\n",
    "    ## 1. Zero grad the optimizer\n",
    "    ## 2. Feed the data into the model\n",
    "    ## 3. Slice the model output and label by train_idx\n",
    "    ## 4. Feed the sliced output and label to loss_fn\n",
    "    ## (~4 lines of code)\n",
    "    optimizer.zero_grad()\n",
    "    out = model(data.x, data.adj_t)\n",
    "    train_result, label = out[train_idx], data.y[train_idx].squeeze(1)\n",
    "    loss = loss_fn(train_result, label)\n",
    "    #########################################\n",
    "\n",
    "    loss.backward()\n",
    "    optimizer.step()\n",
    "\n",
    "    return loss.item()"
   ]
  },
  {
   "cell_type": "code",
   "execution_count": 102,
   "metadata": {},
   "outputs": [],
   "source": [
    "# Test function here\n",
    "@torch.no_grad()\n",
    "def test(model, data, split_idx, evaluator, save_model_results=False):\n",
    "    # TODO: Implement a function that tests the model by\n",
    "    # using the given split_idx and evaluator.\n",
    "    model.eval()\n",
    "\n",
    "    # The output of model on all data\n",
    "    out = None\n",
    "\n",
    "    ############# Your code here ############\n",
    "    ## (~1 line of code)\n",
    "    ## Note:\n",
    "    ## 1. No index slicing here\n",
    "    out = model(data.x, data.adj_t)\n",
    "    #########################################\n",
    "\n",
    "    y_pred = out.argmax(dim=-1, keepdim=True)\n",
    "\n",
    "    train_acc = evaluator.eval({\n",
    "        'y_true': data.y[split_idx['train']],\n",
    "        'y_pred': y_pred[split_idx['train']],\n",
    "    })['acc']\n",
    "    valid_acc = evaluator.eval({\n",
    "        'y_true': data.y[split_idx['valid']],\n",
    "        'y_pred': y_pred[split_idx['valid']],\n",
    "    })['acc']\n",
    "    test_acc = evaluator.eval({\n",
    "        'y_true': data.y[split_idx['test']],\n",
    "        'y_pred': y_pred[split_idx['test']],\n",
    "    })['acc']\n",
    "\n",
    "    if save_model_results:\n",
    "      print (\"Saving Model Predictions\")\n",
    "\n",
    "      data = {}\n",
    "      data['y_pred'] = y_pred.view(-1).cpu().detach().numpy()\n",
    "\n",
    "      df = pd.DataFrame(data=data)\n",
    "      # Save locally as csv\n",
    "      df.to_csv('ogbn-arxiv_node.csv', sep=',', index=False)\n",
    "\n",
    "\n",
    "    return train_acc, valid_acc, test_acc"
   ]
  },
  {
   "cell_type": "code",
   "execution_count": 103,
   "metadata": {},
   "outputs": [],
   "source": [
    "# Please do not change the args\n",
    "if 'IS_GRADESCOPE_ENV' not in os.environ:\n",
    "  args = {\n",
    "      'device': device,\n",
    "      'num_layers': 3,\n",
    "      'hidden_dim': 256,\n",
    "      'dropout': 0.5,\n",
    "      'lr': 0.01,\n",
    "      'epochs': 100,\n",
    "  }\n",
    "  args"
   ]
  },
  {
   "cell_type": "code",
   "execution_count": 104,
   "metadata": {},
   "outputs": [],
   "source": [
    "if 'IS_GRADESCOPE_ENV' not in os.environ:\n",
    "  model = GCN(data.num_features, args['hidden_dim'],\n",
    "              dataset.num_classes, args['num_layers'],\n",
    "              args['dropout']).to(device)\n",
    "  evaluator = Evaluator(name='ogbn-arxiv')"
   ]
  },
  {
   "cell_type": "code",
   "execution_count": 106,
   "metadata": {},
   "outputs": [
    {
     "name": "stdout",
     "output_type": "stream",
     "text": [
      "Epoch: 01, Loss: 4.2677, Train: 22.16%, Valid: 27.37% Test: 24.67%\n",
      "Epoch: 02, Loss: 2.2927, Train: 26.05%, Valid: 24.52% Test: 28.84%\n",
      "Epoch: 03, Loss: 1.9690, Train: 25.75%, Valid: 26.28% Test: 29.22%\n",
      "Epoch: 04, Loss: 1.7898, Train: 21.75%, Valid: 17.44% Test: 16.38%\n",
      "Epoch: 05, Loss: 1.6458, Train: 21.36%, Valid: 14.52% Test: 12.83%\n",
      "Epoch: 06, Loss: 1.5621, Train: 24.40%, Valid: 17.71% Test: 16.19%\n",
      "Epoch: 07, Loss: 1.5001, Train: 28.49%, Valid: 23.35% Test: 22.09%\n",
      "Epoch: 08, Loss: 1.4522, Train: 32.46%, Valid: 30.18% Test: 29.17%\n",
      "Epoch: 09, Loss: 1.4131, Train: 33.46%, Valid: 30.47% Test: 28.71%\n",
      "Epoch: 10, Loss: 1.3757, Train: 34.13%, Valid: 29.43% Test: 28.04%\n",
      "Epoch: 11, Loss: 1.3498, Train: 34.11%, Valid: 26.27% Test: 24.22%\n",
      "Epoch: 12, Loss: 1.3281, Train: 35.66%, Valid: 28.42% Test: 27.95%\n",
      "Epoch: 13, Loss: 1.2995, Train: 37.85%, Valid: 32.12% Test: 32.87%\n",
      "Epoch: 14, Loss: 1.2777, Train: 40.66%, Valid: 36.63% Test: 37.79%\n",
      "Epoch: 15, Loss: 1.2623, Train: 44.69%, Valid: 44.04% Test: 45.68%\n",
      "Epoch: 16, Loss: 1.2376, Train: 48.75%, Valid: 48.79% Test: 50.01%\n",
      "Epoch: 17, Loss: 1.2218, Train: 50.43%, Valid: 51.04% Test: 52.11%\n",
      "Epoch: 18, Loss: 1.2081, Train: 52.70%, Valid: 53.59% Test: 54.46%\n",
      "Epoch: 19, Loss: 1.1932, Train: 54.40%, Valid: 54.76% Test: 55.43%\n",
      "Epoch: 20, Loss: 1.1798, Train: 56.27%, Valid: 56.80% Test: 57.44%\n",
      "Epoch: 21, Loss: 1.1699, Train: 57.87%, Valid: 58.47% Test: 59.22%\n",
      "Epoch: 22, Loss: 1.1570, Train: 59.38%, Valid: 60.14% Test: 60.95%\n",
      "Epoch: 23, Loss: 1.1473, Train: 60.08%, Valid: 61.10% Test: 62.23%\n",
      "Epoch: 24, Loss: 1.1375, Train: 61.01%, Valid: 61.86% Test: 63.19%\n",
      "Epoch: 25, Loss: 1.1318, Train: 62.53%, Valid: 63.27% Test: 63.83%\n",
      "Epoch: 26, Loss: 1.1245, Train: 63.49%, Valid: 64.16% Test: 64.33%\n",
      "Epoch: 27, Loss: 1.1178, Train: 64.43%, Valid: 65.13% Test: 64.81%\n",
      "Epoch: 28, Loss: 1.1107, Train: 65.21%, Valid: 65.52% Test: 64.03%\n",
      "Epoch: 29, Loss: 1.1025, Train: 65.70%, Valid: 66.09% Test: 64.79%\n",
      "Epoch: 30, Loss: 1.0951, Train: 66.04%, Valid: 66.15% Test: 64.92%\n",
      "Epoch: 31, Loss: 1.0887, Train: 66.24%, Valid: 66.27% Test: 65.23%\n",
      "Epoch: 32, Loss: 1.0829, Train: 66.07%, Valid: 65.54% Test: 64.77%\n",
      "Epoch: 33, Loss: 1.0768, Train: 65.98%, Valid: 65.58% Test: 65.22%\n",
      "Epoch: 34, Loss: 1.0705, Train: 65.99%, Valid: 65.45% Test: 65.62%\n",
      "Epoch: 35, Loss: 1.0659, Train: 66.20%, Valid: 65.80% Test: 66.37%\n",
      "Epoch: 36, Loss: 1.0640, Train: 66.30%, Valid: 65.97% Test: 66.26%\n",
      "Epoch: 37, Loss: 1.0576, Train: 66.59%, Valid: 66.22% Test: 66.45%\n",
      "Epoch: 38, Loss: 1.0544, Train: 67.35%, Valid: 67.00% Test: 66.78%\n",
      "Epoch: 39, Loss: 1.0478, Train: 67.42%, Valid: 67.47% Test: 67.43%\n",
      "Epoch: 40, Loss: 1.0422, Train: 67.67%, Valid: 67.90% Test: 67.22%\n",
      "Epoch: 41, Loss: 1.0425, Train: 67.83%, Valid: 68.03% Test: 66.95%\n",
      "Epoch: 42, Loss: 1.0383, Train: 68.08%, Valid: 67.99% Test: 67.02%\n",
      "Epoch: 43, Loss: 1.0298, Train: 68.27%, Valid: 68.34% Test: 67.66%\n",
      "Epoch: 44, Loss: 1.0286, Train: 68.51%, Valid: 68.53% Test: 68.39%\n",
      "Epoch: 45, Loss: 1.0247, Train: 68.79%, Valid: 69.00% Test: 68.51%\n",
      "Epoch: 46, Loss: 1.0201, Train: 69.11%, Valid: 68.82% Test: 68.06%\n",
      "Epoch: 47, Loss: 1.0166, Train: 69.39%, Valid: 69.00% Test: 68.03%\n",
      "Epoch: 48, Loss: 1.0167, Train: 69.48%, Valid: 69.09% Test: 68.11%\n",
      "Epoch: 49, Loss: 1.0095, Train: 69.38%, Valid: 69.05% Test: 68.64%\n",
      "Epoch: 50, Loss: 1.0053, Train: 69.36%, Valid: 69.07% Test: 68.36%\n",
      "Epoch: 51, Loss: 1.0051, Train: 69.32%, Valid: 69.02% Test: 68.13%\n",
      "Epoch: 52, Loss: 1.0021, Train: 69.37%, Valid: 68.97% Test: 68.11%\n",
      "Epoch: 53, Loss: 0.9984, Train: 69.37%, Valid: 68.95% Test: 68.65%\n",
      "Epoch: 54, Loss: 0.9968, Train: 69.38%, Valid: 68.92% Test: 68.79%\n",
      "Epoch: 55, Loss: 0.9952, Train: 69.69%, Valid: 69.33% Test: 68.83%\n",
      "Epoch: 56, Loss: 0.9912, Train: 70.00%, Valid: 69.21% Test: 68.54%\n",
      "Epoch: 57, Loss: 0.9883, Train: 70.08%, Valid: 69.65% Test: 68.47%\n",
      "Epoch: 58, Loss: 0.9862, Train: 70.13%, Valid: 69.71% Test: 68.91%\n",
      "Epoch: 59, Loss: 0.9814, Train: 70.40%, Valid: 69.78% Test: 68.63%\n",
      "Epoch: 60, Loss: 0.9821, Train: 70.35%, Valid: 69.31% Test: 68.45%\n",
      "Epoch: 61, Loss: 0.9777, Train: 70.56%, Valid: 69.48% Test: 68.71%\n",
      "Epoch: 62, Loss: 0.9771, Train: 70.48%, Valid: 69.66% Test: 68.42%\n",
      "Epoch: 63, Loss: 0.9707, Train: 70.53%, Valid: 69.77% Test: 69.06%\n",
      "Epoch: 64, Loss: 0.9724, Train: 70.57%, Valid: 70.02% Test: 68.95%\n",
      "Epoch: 65, Loss: 0.9719, Train: 70.63%, Valid: 69.98% Test: 69.07%\n",
      "Epoch: 66, Loss: 0.9674, Train: 70.65%, Valid: 69.67% Test: 68.74%\n",
      "Epoch: 67, Loss: 0.9650, Train: 70.64%, Valid: 69.64% Test: 68.60%\n",
      "Epoch: 68, Loss: 0.9637, Train: 70.78%, Valid: 69.45% Test: 67.90%\n",
      "Epoch: 69, Loss: 0.9648, Train: 70.80%, Valid: 69.55% Test: 68.18%\n",
      "Epoch: 70, Loss: 0.9601, Train: 71.00%, Valid: 70.07% Test: 68.97%\n",
      "Epoch: 71, Loss: 0.9563, Train: 71.06%, Valid: 69.50% Test: 69.11%\n",
      "Epoch: 72, Loss: 0.9567, Train: 71.10%, Valid: 70.15% Test: 69.23%\n",
      "Epoch: 73, Loss: 0.9518, Train: 71.14%, Valid: 70.17% Test: 68.88%\n",
      "Epoch: 74, Loss: 0.9509, Train: 71.09%, Valid: 69.64% Test: 67.83%\n",
      "Epoch: 75, Loss: 0.9497, Train: 71.18%, Valid: 69.86% Test: 68.37%\n",
      "Epoch: 76, Loss: 0.9471, Train: 71.11%, Valid: 69.84% Test: 68.41%\n",
      "Epoch: 77, Loss: 0.9490, Train: 71.17%, Valid: 70.02% Test: 69.30%\n",
      "Epoch: 78, Loss: 0.9455, Train: 71.27%, Valid: 69.61% Test: 68.76%\n",
      "Epoch: 79, Loss: 0.9429, Train: 71.33%, Valid: 69.46% Test: 67.80%\n",
      "Epoch: 80, Loss: 0.9423, Train: 71.48%, Valid: 70.30% Test: 69.58%\n",
      "Epoch: 81, Loss: 0.9403, Train: 71.40%, Valid: 70.18% Test: 69.35%\n",
      "Epoch: 82, Loss: 0.9369, Train: 71.41%, Valid: 69.86% Test: 68.39%\n",
      "Epoch: 83, Loss: 0.9350, Train: 71.38%, Valid: 69.68% Test: 67.96%\n",
      "Epoch: 84, Loss: 0.9329, Train: 71.41%, Valid: 70.28% Test: 69.72%\n",
      "Epoch: 85, Loss: 0.9339, Train: 71.17%, Valid: 70.16% Test: 70.03%\n",
      "Epoch: 86, Loss: 0.9324, Train: 71.51%, Valid: 70.35% Test: 69.97%\n",
      "Epoch: 87, Loss: 0.9292, Train: 71.51%, Valid: 70.22% Test: 68.45%\n",
      "Epoch: 88, Loss: 0.9273, Train: 71.50%, Valid: 70.15% Test: 68.70%\n",
      "Epoch: 89, Loss: 0.9268, Train: 71.52%, Valid: 70.30% Test: 68.74%\n",
      "Epoch: 90, Loss: 0.9242, Train: 71.69%, Valid: 70.30% Test: 68.86%\n",
      "Epoch: 91, Loss: 0.9221, Train: 71.66%, Valid: 70.20% Test: 68.74%\n",
      "Epoch: 92, Loss: 0.9202, Train: 71.66%, Valid: 70.19% Test: 69.15%\n",
      "Epoch: 93, Loss: 0.9205, Train: 71.76%, Valid: 70.20% Test: 68.64%\n",
      "Epoch: 94, Loss: 0.9182, Train: 71.73%, Valid: 70.47% Test: 69.33%\n",
      "Epoch: 95, Loss: 0.9169, Train: 71.78%, Valid: 70.49% Test: 69.62%\n",
      "Epoch: 96, Loss: 0.9175, Train: 71.73%, Valid: 70.26% Test: 69.74%\n",
      "Epoch: 97, Loss: 0.9140, Train: 71.91%, Valid: 70.15% Test: 68.92%\n",
      "Epoch: 98, Loss: 0.9159, Train: 71.77%, Valid: 70.34% Test: 68.65%\n",
      "Epoch: 99, Loss: 0.9109, Train: 71.88%, Valid: 70.26% Test: 69.04%\n",
      "Epoch: 100, Loss: 0.9110, Train: 71.94%, Valid: 70.66% Test: 69.73%\n"
     ]
    }
   ],
   "source": [
    "# Please do not change these args\n",
    "# Training should take <10min using GPU runtime\n",
    "import copy\n",
    "if 'IS_GRADESCOPE_ENV' not in os.environ:\n",
    "  # reset the parameters to initial random value\n",
    "  model.reset_parameters()\n",
    "\n",
    "  optimizer = torch.optim.Adam(model.parameters(), lr=args['lr'])\n",
    "  loss_fn = F.nll_loss\n",
    "\n",
    "  best_model = None\n",
    "  best_valid_acc = 0\n",
    "\n",
    "  for epoch in range(1, 1 + args[\"epochs\"]):\n",
    "    loss = train(model, data, train_idx, optimizer, loss_fn)\n",
    "    result = test(model, data, split_idx, evaluator)\n",
    "    train_acc, valid_acc, test_acc = result\n",
    "    if valid_acc > best_valid_acc:\n",
    "        best_valid_acc = valid_acc\n",
    "        best_model = copy.deepcopy(model)\n",
    "    print(f'Epoch: {epoch:02d}, '\n",
    "          f'Loss: {loss:.4f}, '\n",
    "          f'Train: {100 * train_acc:.2f}%, '\n",
    "          f'Valid: {100 * valid_acc:.2f}% '\n",
    "          f'Test: {100 * test_acc:.2f}%')"
   ]
  }
 ],
 "metadata": {
  "kernelspec": {
   "display_name": "python39",
   "language": "python",
   "name": "python3"
  },
  "language_info": {
   "codemirror_mode": {
    "name": "ipython",
    "version": 3
   },
   "file_extension": ".py",
   "mimetype": "text/x-python",
   "name": "python",
   "nbconvert_exporter": "python",
   "pygments_lexer": "ipython3",
   "version": "3.10.9"
  }
 },
 "nbformat": 4,
 "nbformat_minor": 2
}
