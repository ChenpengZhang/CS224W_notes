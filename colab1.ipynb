{
 "cells": [
  {
   "cell_type": "code",
   "execution_count": 2,
   "metadata": {},
   "outputs": [],
   "source": [
    "import networkx as nx\n",
    "\n",
    "G = nx.karate_club_graph()"
   ]
  },
  {
   "cell_type": "code",
   "execution_count": 23,
   "metadata": {},
   "outputs": [
    {
     "name": "stdout",
     "output_type": "stream",
     "text": [
      "The pos_edge_index tensor has shape torch.Size([2, 78])\n",
      "The pos_edge_index tensor has sum value 2535\n"
     ]
    }
   ],
   "source": [
    "import torch\n",
    "\n",
    "def graph_to_edge_list(G: nx.Graph):\n",
    "  # TODO: Implement the function that returns the edge list of\n",
    "  # an nx.Graph. The returned edge_list should be a list of tuples\n",
    "  # where each tuple is a tuple representing an edge connected\n",
    "  # by two nodes.\n",
    "\n",
    "  edge_list = []\n",
    "\n",
    "  for edge in G.edges:\n",
    "    u, v = edge\n",
    "    edge_list.append([u, v])\n",
    "\n",
    "  return edge_list\n",
    "\n",
    "def edge_list_to_tensor(edge_list):\n",
    "  # TODO: Implement the function that transforms the edge_list to\n",
    "  # tensor. The input edge_list is a list of tuples and the resulting\n",
    "  # tensor should have the shape [2, len(edge_list)].\n",
    "\n",
    "  edge_index = torch.tensor([])\n",
    "\n",
    "  ############# Your code here ############\n",
    "\n",
    "  edge_index = torch.LongTensor(edge_list).t()\n",
    "\n",
    "  #########################################\n",
    "\n",
    "  return edge_index\n",
    "\n",
    "pos_edge_list = graph_to_edge_list(G)\n",
    "pos_edge_index = edge_list_to_tensor(pos_edge_list)\n",
    "print(\"The pos_edge_index tensor has shape {}\".format(pos_edge_index.shape))\n",
    "print(\"The pos_edge_index tensor has sum value {}\".format(torch.sum(pos_edge_index)))"
   ]
  },
  {
   "cell_type": "code",
   "execution_count": 27,
   "metadata": {},
   "outputs": [
    {
     "name": "stdout",
     "output_type": "stream",
     "text": [
      "The neg_edge_index tensor has shape torch.Size([2, 78])\n",
      "Edge (7, 1) can be a negative edge: False\n",
      "Edge (1, 33) can be a negative edge: True\n",
      "Edge (33, 22) can be a negative edge: False\n",
      "Edge (0, 4) can be a negative edge: False\n",
      "Edge (4, 2) can be a negative edge: True\n"
     ]
    }
   ],
   "source": [
    "import random\n",
    "\n",
    "def sample_negative_edges(G, num_neg_samples):\n",
    "  # TODO: Implement the function that returns a list of negative edges.\n",
    "  # The number of sampled negative edges is num_neg_samples. You do not\n",
    "  # need to consider the corner case when the number of possible negative edges\n",
    "  # is less than num_neg_samples. It should be ok as long as your implementation\n",
    "  # works on the karate club network. In this implementation, self loops should\n",
    "  # not be considered as either a positive or negative edge. Also, notice that\n",
    "  # the karate club network is an undirected graph, if (0, 1) is a positive\n",
    "  # edge, do you think (1, 0) can be a negative one?\n",
    "\n",
    "  neg_edge_list = []\n",
    "\n",
    "  ############# Your code here ############\n",
    "\n",
    "  nodes = list(G.nodes())\n",
    "\n",
    "  while len(neg_edge_list) < num_neg_samples:\n",
    "    u, v = random.sample(nodes, 2)\n",
    "    if not G.has_edge(u, v) and not G.has_edge(v, u) and v != u:\n",
    "      neg_edge_list.append([u, v])\n",
    "\n",
    "  #########################################\n",
    "\n",
    "  return neg_edge_list\n",
    "\n",
    "# Sample 78 negative edges\n",
    "neg_edge_list = sample_negative_edges(G, len(pos_edge_list))\n",
    "\n",
    "# Transform the negative edge list to tensor\n",
    "neg_edge_index = edge_list_to_tensor(neg_edge_list)\n",
    "print(\"The neg_edge_index tensor has shape {}\".format(neg_edge_index.shape))\n",
    "\n",
    "# Which of following edges can be negative ones?\n",
    "edge_1 = (7, 1)\n",
    "edge_2 = (1, 33)\n",
    "edge_3 = (33, 22)\n",
    "edge_4 = (0, 4)\n",
    "edge_5 = (4, 2)\n",
    "\n",
    "############# Your code here ############\n",
    "## Note:\n",
    "## 1: For each of the 5 edges, print whether it can be negative edge\n",
    "for edge in [edge_1, edge_2, edge_3, edge_4, edge_5]:\n",
    "    u, v = edge\n",
    "    can_be_negative = not G.has_edge(u, v) and u != v and not G.has_edge(v, u)\n",
    "    print(f\"Edge {edge} can be a negative edge: {can_be_negative}\")\n",
    "\n",
    "#########################################"
   ]
  },
  {
   "cell_type": "code",
   "execution_count": 9,
   "metadata": {},
   "outputs": [
    {
     "name": "stdout",
     "output_type": "stream",
     "text": [
      "2.3.1+cu121\n"
     ]
    }
   ],
   "source": [
    "import torch.nn as nn\n",
    "import matplotlib.pyplot as plt\n",
    "from sklearn.decomposition import PCA\n",
    "\n",
    "print(torch.__version__)"
   ]
  },
  {
   "cell_type": "code",
   "execution_count": 32,
   "metadata": {},
   "outputs": [
    {
     "name": "stdout",
     "output_type": "stream",
     "text": [
      "Embedding: Embedding(34, 16)\n",
      "tensor([[0.2114, 0.7335, 0.1433, 0.9647, 0.2933, 0.7951, 0.5170, 0.2801, 0.8339,\n",
      "         0.1185, 0.2355, 0.5599, 0.8966, 0.2858, 0.1955, 0.1808],\n",
      "        [0.7486, 0.6546, 0.3843, 0.9820, 0.6012, 0.3710, 0.4929, 0.9915, 0.8358,\n",
      "         0.4629, 0.9902, 0.7196, 0.2338, 0.0450, 0.7906, 0.9689]],\n",
      "       grad_fn=<EmbeddingBackward0>)\n"
     ]
    }
   ],
   "source": [
    "# Please do not change / reset the random seed\n",
    "torch.manual_seed(1)\n",
    "\n",
    "def create_node_emb(num_node=34, embedding_dim=16):\n",
    "  # TODO: Implement this function that will create the node embedding matrix.\n",
    "  # A torch.nn.Embedding layer will be returned. You do not need to change\n",
    "  # the values of num_node and embedding_dim. The weight matrix of returned\n",
    "  # layer should be initialized under uniform distribution.\n",
    "\n",
    "  emb = None\n",
    "\n",
    "  ############# Your code here ############\n",
    "\n",
    "  emb = nn.Embedding(num_node, embedding_dim)\n",
    "  emb.weight.data = torch.rand(num_node, embedding_dim)\n",
    "\n",
    "  #########################################\n",
    "\n",
    "  return emb\n",
    "\n",
    "emb = create_node_emb()\n",
    "ids = torch.LongTensor([0, 3])\n",
    "\n",
    "# Print the embedding layer\n",
    "print(\"Embedding: {}\".format(emb))\n",
    "\n",
    "# An example that gets the embeddings for node 0 and 3\n",
    "print(emb(ids))"
   ]
  },
  {
   "cell_type": "code",
   "execution_count": 11,
   "metadata": {},
   "outputs": [
    {
     "data": {
      "image/png": "[encoded data removed]",
      "text/plain": [
       "<Figure size 600x600 with 1 Axes>"
      ]
     },
     "metadata": {},
     "output_type": "display_data"
    }
   ],
   "source": [
    "def visualize_emb(emb):\n",
    "  X = emb.weight.data.numpy()\n",
    "  pca = PCA(n_components=2)\n",
    "  components = pca.fit_transform(X)\n",
    "  plt.figure(figsize=(6, 6))\n",
    "  club1_x = []\n",
    "  club1_y = []\n",
    "  club2_x = []\n",
    "  club2_y = []\n",
    "  for node in G.nodes(data=True):\n",
    "    if node[1]['club'] == 'Mr. Hi':\n",
    "      club1_x.append(components[node[0]][0])\n",
    "      club1_y.append(components[node[0]][1])\n",
    "    else:\n",
    "      club2_x.append(components[node[0]][0])\n",
    "      club2_y.append(components[node[0]][1])\n",
    "  plt.scatter(club1_x, club1_y, color=\"red\", label=\"Mr. Hi\")\n",
    "  plt.scatter(club2_x, club2_y, color=\"blue\", label=\"Officer\")\n",
    "  plt.legend()\n",
    "  plt.show()\n",
    "\n",
    "# Visualize the initial random embeddding\n",
    "visualize_emb(emb)"
   ]
  },
  {
   "cell_type": "code",
   "execution_count": 33,
   "metadata": {},
   "outputs": [
    {
     "name": "stdout",
     "output_type": "stream",
     "text": [
      "torch.Size([2, 78])\n",
      "torch.Size([2, 156])\n",
      "Epoch [10/500], Loss: 1.5796, Accuracy: 0.5\n",
      "Epoch [20/500], Loss: 0.9542, Accuracy: 0.5128\n",
      "Epoch [30/500], Loss: 0.6400, Accuracy: 0.5962\n",
      "Epoch [40/500], Loss: 0.5156, Accuracy: 0.7244\n",
      "Epoch [50/500], Loss: 0.4532, Accuracy: 0.8141\n",
      "Epoch [60/500], Loss: 0.4079, Accuracy: 0.8718\n",
      "Epoch [70/500], Loss: 0.3681, Accuracy: 0.891\n",
      "Epoch [80/500], Loss: 0.3311, Accuracy: 0.9487\n",
      "Epoch [90/500], Loss: 0.2965, Accuracy: 0.9551\n",
      "Epoch [100/500], Loss: 0.2647, Accuracy: 0.9615\n",
      "Epoch [110/500], Loss: 0.2359, Accuracy: 0.9744\n",
      "Epoch [120/500], Loss: 0.2102, Accuracy: 0.9872\n",
      "Epoch [130/500], Loss: 0.1874, Accuracy: 0.9872\n",
      "Epoch [140/500], Loss: 0.1674, Accuracy: 0.9872\n",
      "Epoch [150/500], Loss: 0.1499, Accuracy: 1.0\n",
      "Epoch [160/500], Loss: 0.1346, Accuracy: 1.0\n",
      "Epoch [170/500], Loss: 0.1212, Accuracy: 1.0\n",
      "Epoch [180/500], Loss: 0.1095, Accuracy: 1.0\n",
      "Epoch [190/500], Loss: 0.0993, Accuracy: 1.0\n",
      "Epoch [200/500], Loss: 0.0903, Accuracy: 1.0\n",
      "Epoch [210/500], Loss: 0.0824, Accuracy: 1.0\n",
      "Epoch [220/500], Loss: 0.0754, Accuracy: 1.0\n",
      "Epoch [230/500], Loss: 0.0693, Accuracy: 1.0\n",
      "Epoch [240/500], Loss: 0.0638, Accuracy: 1.0\n",
      "Epoch [250/500], Loss: 0.0590, Accuracy: 1.0\n",
      "Epoch [260/500], Loss: 0.0547, Accuracy: 1.0\n",
      "Epoch [270/500], Loss: 0.0508, Accuracy: 1.0\n",
      "Epoch [280/500], Loss: 0.0474, Accuracy: 1.0\n",
      "Epoch [290/500], Loss: 0.0443, Accuracy: 1.0\n",
      "Epoch [300/500], Loss: 0.0415, Accuracy: 1.0\n",
      "Epoch [310/500], Loss: 0.0390, Accuracy: 1.0\n",
      "Epoch [320/500], Loss: 0.0367, Accuracy: 1.0\n",
      "Epoch [330/500], Loss: 0.0346, Accuracy: 1.0\n",
      "Epoch [340/500], Loss: 0.0328, Accuracy: 1.0\n",
      "Epoch [350/500], Loss: 0.0310, Accuracy: 1.0\n",
      "Epoch [360/500], Loss: 0.0294, Accuracy: 1.0\n",
      "Epoch [370/500], Loss: 0.0280, Accuracy: 1.0\n",
      "Epoch [380/500], Loss: 0.0267, Accuracy: 1.0\n",
      "Epoch [390/500], Loss: 0.0254, Accuracy: 1.0\n",
      "Epoch [400/500], Loss: 0.0243, Accuracy: 1.0\n",
      "Epoch [410/500], Loss: 0.0232, Accuracy: 1.0\n",
      "Epoch [420/500], Loss: 0.0223, Accuracy: 1.0\n",
      "Epoch [430/500], Loss: 0.0213, Accuracy: 1.0\n",
      "Epoch [440/500], Loss: 0.0205, Accuracy: 1.0\n",
      "Epoch [450/500], Loss: 0.0197, Accuracy: 1.0\n",
      "Epoch [460/500], Loss: 0.0190, Accuracy: 1.0\n",
      "Epoch [470/500], Loss: 0.0183, Accuracy: 1.0\n",
      "Epoch [480/500], Loss: 0.0176, Accuracy: 1.0\n",
      "Epoch [490/500], Loss: 0.0170, Accuracy: 1.0\n",
      "Epoch [500/500], Loss: 0.0164, Accuracy: 1.0\n"
     ]
    }
   ],
   "source": [
    "from torch.optim import SGD\n",
    "import torch.nn as nn\n",
    "\n",
    "def accuracy(pred, label):\n",
    "  # TODO: Implement the accuracy function. This function takes the\n",
    "  # pred tensor (the resulting tensor after sigmoid) and the label\n",
    "  # tensor (torch.LongTensor). Predicted value greater than 0.5 will\n",
    "  # be classified as label 1. Else it will be classified as label 0.\n",
    "  # The returned accuracy should be rounded to 4 decimal places.\n",
    "  # For example, accuracy 0.82956 will be rounded to 0.8296.\n",
    "\n",
    "  accu = 0.0\n",
    "\n",
    "  ############# Your code here ############\n",
    "\n",
    "  pred_labels = (pred > 0.5).long()  # convert boolean to 0 or 1\n",
    "  correct = (pred_labels == label).sum().item()\n",
    "  total = label.size(0)\n",
    "  acc = correct / total\n",
    "  accu = round(acc, 4)\n",
    "\n",
    "  #########################################\n",
    "\n",
    "  return accu\n",
    "\n",
    "def train(emb, loss_fn, sigmoid, train_label, train_edge):\n",
    "  # TODO: Train the embedding layer here. You can also change epochs and\n",
    "  # learning rate. In general, you need to implement:\n",
    "  # (1) Get the embeddings of the nodes in train_edge\n",
    "  # (2) Dot product the embeddings between each node pair\n",
    "  # (3) Feed the dot product result into sigmoid\n",
    "  # (4) Feed the sigmoid output into the loss_fn\n",
    "  # (5) Print both loss and accuracy of each epoch\n",
    "  # (6) Update the embeddings using the loss and optimizer\n",
    "  # (as a sanity check, the loss should decrease during training)\n",
    "\n",
    "  epochs = 500\n",
    "  learning_rate = 0.1\n",
    "\n",
    "  optimizer = SGD(emb.parameters(), lr=learning_rate, momentum=0.9)\n",
    "\n",
    "  for epoch in range(epochs):\n",
    "\n",
    "    ############# Your code here ############\n",
    "    \n",
    "    optimizer.zero_grad()\n",
    "\n",
    "    # (1) Get embeddings of nodes in train_edge\n",
    "    embeddings = emb(train_edge)\n",
    "\n",
    "    # (2) Compute dot product between embeddings of each node pair\n",
    "    dot_product = torch.mul(embeddings[0], embeddings[1])\n",
    "    dot_product = torch.sum(dot_product, dim=1)\n",
    "\n",
    "    # (3) Apply sigmoid to the dot product to get predictions\n",
    "    pred = sigmoid(dot_product)\n",
    "\n",
    "    # (4) Calculate the loss\n",
    "    loss = loss_fn(pred, train_label)\n",
    "\n",
    "    # (5) Calculate accuracy\n",
    "    acc = accuracy(pred, train_label)\n",
    "\n",
    "    # Print loss and accuracy for monitoring\n",
    "    if (epoch + 1) % 10 == 0:\n",
    "        print(f\"Epoch [{epoch+1}/{epochs}], Loss: {loss.item():.4f}, Accuracy: {acc}\")\n",
    "\n",
    "    # (6) Backpropagation and optimization step\n",
    "    loss.backward()\n",
    "    optimizer.step()\n",
    "\n",
    "    #########################################\n",
    "\n",
    "loss_fn = nn.BCELoss()\n",
    "sigmoid = nn.Sigmoid()\n",
    "\n",
    "print(pos_edge_index.shape)\n",
    "\n",
    "# Generate the positive and negative labels\n",
    "pos_label = torch.ones(pos_edge_index.shape[1], )\n",
    "neg_label = torch.zeros(neg_edge_index.shape[1], )\n",
    "\n",
    "# Concat positive and negative labels into one tensor\n",
    "train_label = torch.cat([pos_label, neg_label], dim=0)\n",
    "\n",
    "# Concat positive and negative edges into one tensor\n",
    "# Since the network is very small, we do not split the edges into val/test sets\n",
    "train_edge = torch.cat([pos_edge_index, neg_edge_index], dim=1)\n",
    "print(train_edge.shape)\n",
    "\n",
    "train(emb, loss_fn, sigmoid, train_label, train_edge)"
   ]
  },
  {
   "cell_type": "code",
   "execution_count": 31,
   "metadata": {},
   "outputs": [
    {
     "data": {
      "image/png": "[encoded data removed]",
      "text/plain": [
       "<Figure size 600x600 with 1 Axes>"
      ]
     },
     "metadata": {},
     "output_type": "display_data"
    }
   ],
   "source": [
    "visualize_emb(emb)"
   ]
  }
 ],
 "metadata": {
  "kernelspec": {
   "display_name": "Python 3",
   "language": "python",
   "name": "python3"
  },
  "language_info": {
   "codemirror_mode": {
    "name": "ipython",
    "version": 3
   },
   "file_extension": ".py",
   "mimetype": "text/x-python",
   "name": "python",
   "nbconvert_exporter": "python",
   "pygments_lexer": "ipython3",
   "version": "3.10.2"
  }
 },
 "nbformat": 4,
 "nbformat_minor": 2
}
