{
 "cells": [
  {
   "cell_type": "code",
   "execution_count": 4,
   "metadata": {},
   "outputs": [
    {
     "data": {
      "text/plain": [
       "{}"
      ]
     },
     "execution_count": 4,
     "metadata": {},
     "output_type": "execute_result"
    }
   ],
   "source": [
    "from torch_geometric.datasets import (PPI, Amazon, Coauthor, KarateClub,\n",
    "                                      MNISTSuperpixels, Planetoid, QM7b,\n",
    "                                      TUDataset)\n",
    "from deepsnap.dataset import GraphDataset\n",
    "from torch_geometric.utils import to_networkx\n",
    "\n",
    "dataset_raw = KarateClub()\n",
    "graphs = GraphDataset.pyg_to_graphs(dataset_raw)\n",
    "G = to_networkx(dataset_raw[0], to_undirected=True)\n",
    "G.nodes[0]"
   ]
  }
 ],
 "metadata": {
  "kernelspec": {
   "display_name": "Python 3",
   "language": "python",
   "name": "python3"
  },
  "language_info": {
   "codemirror_mode": {
    "name": "ipython",
    "version": 3
   },
   "file_extension": ".py",
   "mimetype": "text/x-python",
   "name": "python",
   "nbconvert_exporter": "python",
   "pygments_lexer": "ipython3",
   "version": "3.10.2"
  }
 },
 "nbformat": 4,
 "nbformat_minor": 2
}
